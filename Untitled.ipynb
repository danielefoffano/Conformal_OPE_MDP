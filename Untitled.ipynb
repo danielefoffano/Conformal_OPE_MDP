{
 "cells": [
  {
   "cell_type": "code",
   "execution_count": null,
   "metadata": {},
   "outputs": [],
   "source": [
    "import pandas as pd"
   ]
  },
  {
   "cell_type": "code",
   "execution_count": null,
   "metadata": {},
   "outputs": [],
   "source": [
    "df = pd.read_csv('./horizon_25/run_0.csv')"
   ]
  },
  {
   "cell_type": "code",
   "execution_count": null,
   "metadata": {},
   "outputs": [],
   "source": [
    "df"
   ]
  },
  {
   "cell_type": "code",
   "execution_count": null,
   "metadata": {},
   "outputs": [],
   "source": [
    "epsilons = df[\"epsilon\"].to_numpy()\n",
    "avg_length = df[\"Avg_length\"].to_numpy()\n",
    "coverage = df[\"Coverage\"].to_numpy()"
   ]
  },
  {
   "cell_type": "code",
   "execution_count": null,
   "metadata": {},
   "outputs": [],
   "source": [
    "import numpy as np"
   ]
  },
  {
   "cell_type": "code",
   "execution_count": null,
   "metadata": {},
   "outputs": [],
   "source": [
    "np.mean(np.vstack((epsilons, epsilons)), 0)"
   ]
  },
  {
   "cell_type": "code",
   "execution_count": null,
   "metadata": {},
   "outputs": [],
   "source": [
    "horizon_lengths = []\n",
    "horizon_coverage = []\n",
    "horizon_lengths_std = []\n",
    "horizon_coverage_std = []\n",
    "horizons = [5,10,15,20,25]\n",
    "for horizon in horizons:\n",
    "    avg_length = []\n",
    "    coverage = []\n",
    "    for run in range(5):\n",
    "        \n",
    "        df = pd.read_csv(f\"./horizon_{horizon}/run_{run}.csv\")\n",
    "        \n",
    "        if len(avg_length) == 0:\n",
    "            avg_length = df[\"Avg_length\"].to_numpy()\n",
    "        else:\n",
    "            avg_length = np.vstack((avg_length, df[\"Avg_length\"].to_numpy()))\n",
    "            \n",
    "        if len(coverage) == 0:\n",
    "            coverage = df[\"Coverage\"].to_numpy()\n",
    "        else:\n",
    "            coverage = np.vstack((coverage, df[\"Coverage\"].to_numpy()))\n",
    "            \n",
    "    horizon_lengths.append(np.mean(avg_length, 0))\n",
    "    horizon_coverage.append(np.mean(coverage, 0))\n",
    "    horizon_lengths_std.append(np.std(avg_length, 0))\n",
    "    horizon_coverage_std.append(np.std(coverage, 0))\n",
    "    \n",
    "\n",
    "horizon_lengths = np.array(horizon_lengths)\n",
    "horizon_coverage = np.array(horizon_coverage)\n",
    "horizon_lengths_std = np.array(horizon_lengths_std)\n",
    "horizon_coverage_std = np.array(horizon_coverage_std)"
   ]
  },
  {
   "cell_type": "code",
   "execution_count": null,
   "metadata": {},
   "outputs": [],
   "source": [
    "import matplotlib.pyplot as plt\n",
    "fig, ax = plt.subplots(1,2, figsize=(12,6))\n",
    "\n",
    "for i in range(5):\n",
    "    line = ax[0].errorbar(epsilons, horizon_lengths[i], 2.2*horizon_lengths_std[i] / np.sqrt(5))\n",
    "    line.set_label(f\"Horizon {horizons[i]}\")\n",
    "    ax[0].set_xlabel('$\\epsilon$')\n",
    "    ax[0].set_ylabel('Interval length')\n",
    "    ax[0].grid()\n",
    "\n",
    "\n",
    "    ax[1].errorbar(epsilons, horizon_coverage[i], 2.2*horizon_coverage_std[i] / np.sqrt(5))\n",
    "    ax[1].set_xlabel('$\\epsilon$')\n",
    "    ax[1].set_ylabel('Coverage')\n",
    "    ax[1].grid()\n",
    "fig.legend()\n",
    "plt.savefig('results.pdf')"
   ]
  },
  {
   "cell_type": "code",
   "execution_count": null,
   "metadata": {},
   "outputs": [],
   "source": []
  },
  {
   "cell_type": "code",
   "execution_count": null,
   "metadata": {},
   "outputs": [],
   "source": [
    "import numpy as np\n",
    "from random_mdp import MDPEnv, MDPEnvDiscreteRew, MDPEnvBernoulliRew\n",
    "from agent import QlearningAgent\n",
    "from greedy_policy import EpsilonGreedyPolicy, TableBasedPolicy, MixedPolicy\n",
    "from utils import get_data, collect_exp, train_predictor, train_behaviour_policy, value_iteration, save_important_dictionary\n",
    "from networks import MLP, WeightsMLP, WeightsTransformerMLP\n",
    "from dynamics_model import DynamicsModel, DiscreteRewardDynamicsModel, ContinuousRewardDynamicsModel\n",
    "import torch\n",
    "from collections import defaultdict\n",
    "import pickle\n",
    "import random\n",
    "from weights import WeightsEstimator, ExactWeightsEstimator\n",
    "from conformal_set import ConformalSet\n",
    "from custom_environments.inventory import Inventory\n",
    "from multiprocessing import freeze_support\n",
    "from logger import Logger\n",
    "import os\n",
    "\n",
    "important_stuff = None\n",
    "with open(\"horizon/horizon_25/data/useful_saves_run_1_0.5.pkl\", \"rb\") as f2:\n",
    "    important_stuff = pickle.load(f2)"
   ]
  },
  {
   "cell_type": "code",
   "execution_count": null,
   "metadata": {},
   "outputs": [],
   "source": [
    "weights_estimator = important_stuff[\"Weights_estimator\"]\n",
    "exact_weights_estimator = important_stuff[\"Exact_weights_estimator\"]\n",
    "conformal_set = important_stuff[\"Conformal_set\"]\n",
    "weights = important_stuff[\"weights\"]\n",
    "scores = important_stuff[\"scores\"]\n",
    "weight_network = important_stuff[\"weight_network\"]\n",
    "env = important_stuff[\"env\"]\n",
    "pi_target = conformal_set.pi_star\n",
    "pi_b = conformal_set.behaviour_policy"
   ]
  },
  {
   "cell_type": "code",
   "execution_count": null,
   "metadata": {},
   "outputs": [],
   "source": [
    "for s in range(env.ns):\n",
    "    \n",
    "    test_points = collect_exp(env, 2000, 25, pi_target, None, s)\n",
    "    y_vals = [point[1] for point in test_points]\n",
    "    print(np.mean(y_vals))\n",
    "    intervals, lower_quantile, upper_quantile, quantiles = conformal_set.build_set(test_points, weights, scores, 1, weight_network, True)\n",
    "    \n",
    "    \n",
    "    \n",
    "    "
   ]
  },
  {
   "cell_type": "code",
   "execution_count": null,
   "metadata": {},
   "outputs": [],
   "source": []
  }
 ],
 "metadata": {
  "kernelspec": {
   "display_name": "Python 3",
   "language": "python",
   "name": "python3"
  },
  "language_info": {
   "codemirror_mode": {
    "name": "ipython",
    "version": 3
   },
   "file_extension": ".py",
   "mimetype": "text/x-python",
   "name": "python",
   "nbconvert_exporter": "python",
   "pygments_lexer": "ipython3",
   "version": "3.8.5"
  }
 },
 "nbformat": 4,
 "nbformat_minor": 4
}
