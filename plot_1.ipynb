{
 "cells": [
  {
   "cell_type": "code",
   "execution_count": 1,
   "metadata": {},
   "outputs": [
    {
     "name": "stdout",
     "output_type": "stream",
     "text": [
      "> Loading/collecting data\n",
      "> Training/loading quantile networks\n"
     ]
    }
   ],
   "source": [
    "import numpy as np\n",
    "from random_mdp import MDPEnv, MDPEnvDiscreteRew, MDPEnvBernoulliRew\n",
    "from agent import QlearningAgent\n",
    "from greedy_policy import EpsilonGreedyPolicy, TableBasedPolicy, MixedPolicy\n",
    "from utils import get_data, collect_exp, train_predictor, train_behaviour_policy, compute_weight, compute_weights_gradient, train_weight_function\n",
    "from networks import MLP, WeightsMLP\n",
    "from dynamics_model import DynamicsModel, DiscreteRewardDynamicsModel\n",
    "import torch\n",
    "from collections import defaultdict\n",
    "import pickle\n",
    "import random\n",
    "from weights import WeightsEstimator\n",
    "from conformal_set import ConformalSet\n",
    "def set_seed(seed: int):\n",
    "    random.seed(seed)\n",
    "    torch.manual_seed(seed)\n",
    "    np.random.seed(seed)\n",
    "    \n",
    "set_seed(1)\n",
    "\n",
    "REWARD_TYPE = \"discrete_multiple\"\n",
    "GRADIENT_BASED = True\n",
    "EPSILON = 0.3\n",
    "QUANTILE = 0.1\n",
    "LR = 1e-4\n",
    "MOMENTUM = 0.9\n",
    "EPOCHS = 300\n",
    "NUM_ACTIONS = 5                                                                     # MDP action space size\n",
    "NUM_STATES = 30                                                                     # MDP states space size\n",
    "NUM_REWARDS = 10                                                                    # MDP reward space size (for discrete MDP)\n",
    "DISCOUNT_FACTOR = 0.99                                                              # behaviour agent discount factor\n",
    "ALPHA = 0.6                                                                         # behaviour agent alpha\n",
    "NUM_STEPS = 10000                                                                   # behaviour agent learning steps\n",
    "N_TRAJECTORIES = 20000                                                              # number of trajectories collected as dataset\n",
    "HORIZON = 30                                                                        # trajectory horizon\n",
    "\n",
    "P = np.random.dirichlet(np.ones(NUM_STATES), size=(NUM_STATES, NUM_ACTIONS))        # MDP transition probability functions\n",
    "\n",
    "if REWARD_TYPE == \"bernoulli\":\n",
    "    R = np.random.rand(NUM_STATES, NUM_ACTIONS)                                     # MDP reward function Bernoulli\n",
    "    env = MDPEnvBernoulliRew(NUM_STATES, NUM_ACTIONS, P, R)\n",
    "    model = DiscreteRewardDynamicsModel(NUM_STATES, NUM_ACTIONS, NUM_REWARDS)\n",
    "elif REWARD_TYPE == \"discrete_multiple\":                                 \n",
    "    R = np.random.dirichlet(np.ones(NUM_REWARDS), size=(NUM_STATES, NUM_ACTIONS))   # MDP reward function multiple discrete r values\n",
    "    env = MDPEnvDiscreteRew(NUM_STATES, NUM_ACTIONS, NUM_REWARDS, P, R)\n",
    "    model = DiscreteRewardDynamicsModel(NUM_STATES, NUM_ACTIONS, NUM_REWARDS)\n",
    "elif REWARD_TYPE == \"continuous\":\n",
    "    # TODO: implement continuous rewards model, the \"true\" MDP we already have\n",
    "    R = np.random.rand(NUM_STATES, NUM_ACTIONS, NUM_STATES)\n",
    "    env = MDPEnv(NUM_STATES, NUM_ACTIONS, P, R)\n",
    "\n",
    "pi_star_probs = np.random.dirichlet(np.ones(NUM_ACTIONS), size=(NUM_STATES))\n",
    "pi_star_pre = TableBasedPolicy(pi_star_probs)\n",
    "\n",
    "\n",
    "#Train behaviour policy using Q-learning\n",
    "agent = QlearningAgent(env.ns, NUM_ACTIONS, DISCOUNT_FACTOR, ALPHA)\n",
    "\n",
    "q_table = train_behaviour_policy(env, agent, NUM_STEPS)\n",
    "behaviour_policy = EpsilonGreedyPolicy(q_table, EPSILON, NUM_ACTIONS)\n",
    "\n",
    "#Collect experience data using behaviour policy and train model\n",
    "#TODO: improve storage system\n",
    "model, dataset = get_data(env, N_TRAJECTORIES, behaviour_policy, model, REWARD_TYPE, HORIZON)\n",
    "\n",
    "#Split dataset into training (90%) and calibration data (10%)\n",
    "calibration_trajectories = N_TRAJECTORIES // 10\n",
    "data_tr = dataset[:N_TRAJECTORIES - calibration_trajectories]\n",
    "data_cal = dataset[N_TRAJECTORIES - calibration_trajectories:N_TRAJECTORIES]\n",
    "test_state = np.random.randint(NUM_STATES)\n",
    "\n",
    "#Train quantile predictors using training dataset\n",
    "print('> Training/loading quantile networks')\n",
    "upper_quantile_net = MLP(1, 32, 1, False)\n",
    "lower_quantile_net = MLP(1, 32, 1, False)\n",
    "\n",
    "if not lower_quantile_net.load('./data/networks/lower_quantile_net.pth'):\n",
    "    y_avg, y_std = train_predictor(lower_quantile_net, data_tr, epochs=EPOCHS, quantile=QUANTILE/2, lr=LR, momentum=MOMENTUM)\n",
    "    lower_quantile_net.set_normalization(y_avg, y_std)\n",
    "    lower_quantile_net.save('./data/networks/lower_quantile_net.pth')\n",
    "\n",
    "if not upper_quantile_net.load('./data/networks/upper_quantile_net.pth'):\n",
    "    y_avg, y_std = train_predictor(upper_quantile_net, data_tr, epochs=EPOCHS, quantile=1-(QUANTILE/2), lr=LR, momentum=MOMENTUM)\n",
    "    upper_quantile_net.set_normalization(y_avg, y_std)\n",
    "    upper_quantile_net.save('./data/networks/upper_quantile_net.pth')"
   ]
  },
  {
   "cell_type": "code",
   "execution_count": null,
   "metadata": {},
   "outputs": [],
   "source": []
  },
  {
   "cell_type": "code",
   "execution_count": 20,
   "metadata": {},
   "outputs": [
    {
     "data": {
      "application/vnd.jupyter.widget-view+json": {
       "model_id": "dbc3788e66914383a4f8bf33d633fb1b",
       "version_major": 2,
       "version_minor": 0
      },
      "text/plain": [
       "  0%|          | 0/10 [00:00<?, ?it/s]"
      ]
     },
     "metadata": {},
     "output_type": "display_data"
    },
    {
     "name": "stdout",
     "output_type": "stream",
     "text": [
      "> Estimate weights for calibration data\n",
      "> Computing weight of trajectories\n"
     ]
    },
    {
     "name": "stderr",
     "output_type": "stream",
     "text": [
      "Epoch 97 - Training weights network - Loss: 3.4745285120152403e-06 - Loss val: 9.341193617729004e-06:  33%|███▎      | 98/300 [00:10<00:20,  9.66it/s]\n"
     ]
    },
    {
     "ename": "KeyboardInterrupt",
     "evalue": "",
     "output_type": "error",
     "traceback": [
      "\u001b[0;31m---------------------------------------------------------------------------\u001b[0m",
      "\u001b[0;31mKeyboardInterrupt\u001b[0m                         Traceback (most recent call last)",
      "Cell \u001b[0;32mIn [20], line 18\u001b[0m\n\u001b[1;32m     16\u001b[0m weights_estimator \u001b[38;5;241m=\u001b[39m WeightsEstimator(behaviour_policy, pi_star, lower_quantile_net, upper_quantile_net)\n\u001b[1;32m     17\u001b[0m \u001b[38;5;28;01mif\u001b[39;00m GRADIENT_BASED:\n\u001b[0;32m---> 18\u001b[0m     scores, weights, weight_network \u001b[38;5;241m=\u001b[39m \u001b[43mweights_estimator\u001b[49m\u001b[38;5;241;43m.\u001b[39;49m\u001b[43mgradient_method\u001b[49m\u001b[43m(\u001b[49m\u001b[43mdata_tr\u001b[49m\u001b[43m,\u001b[49m\u001b[43m \u001b[49m\u001b[43mdata_cal\u001b[49m\u001b[43m,\u001b[49m\u001b[43m \u001b[49m\u001b[43mLR\u001b[49m\u001b[43m,\u001b[49m\u001b[43m \u001b[49m\u001b[43mEPOCHS\u001b[49m\u001b[43m,\u001b[49m\u001b[43m \u001b[49m\u001b[38;5;28;43;01mlambda\u001b[39;49;00m\u001b[43m:\u001b[49m\u001b[43mWeightsMLP\u001b[49m\u001b[43m(\u001b[49m\u001b[38;5;241;43m2\u001b[39;49m\u001b[43m,\u001b[49m\u001b[43m \u001b[49m\u001b[38;5;241;43m32\u001b[39;49m\u001b[43m,\u001b[49m\u001b[43m \u001b[49m\u001b[38;5;241;43m1\u001b[39;49m\u001b[43m,\u001b[49m\u001b[43m \u001b[49m\u001b[43mupper_quantile_net\u001b[49m\u001b[38;5;241;43m.\u001b[39;49m\u001b[43mmean\u001b[49m\u001b[43m,\u001b[49m\u001b[43m \u001b[49m\u001b[43mupper_quantile_net\u001b[49m\u001b[38;5;241;43m.\u001b[39;49m\u001b[43mstd\u001b[49m\u001b[43m)\u001b[49m\u001b[43m)\u001b[49m\n\u001b[1;32m     19\u001b[0m \u001b[38;5;28;01melse\u001b[39;00m:\n\u001b[1;32m     20\u001b[0m     scores, weight \u001b[38;5;241m=\u001b[39m weights_estimator\u001b[38;5;241m.\u001b[39mmodel_based(data_tr, data_cal, HORIZON, model)\n",
      "File \u001b[0;32m~/Conformal_OPE_MDP/weights.py:58\u001b[0m, in \u001b[0;36mWeightsEstimator.gradient_method\u001b[0;34m(self, data_tr, data_cal, lr, epochs, make_network)\u001b[0m\n\u001b[1;32m     56\u001b[0m \u001b[39m# Compute weights and scores (on calibration data) - gradient approach\u001b[39;00m\n\u001b[1;32m     57\u001b[0m weight_network \u001b[39m=\u001b[39m make_network()\n\u001b[0;32m---> 58\u001b[0m train_weight_function(data_tr, weights, weight_network, lr, epochs)\n\u001b[1;32m     60\u001b[0m calibration_weights \u001b[39m=\u001b[39m []\n\u001b[1;32m     61\u001b[0m \u001b[39mfor\u001b[39;00m traj, cumul_rew \u001b[39min\u001b[39;00m data_cal:\n\u001b[1;32m     62\u001b[0m     \u001b[39m# Compute weight\u001b[39;00m\n",
      "File \u001b[0;32m~/Conformal_OPE_MDP/utils.py:183\u001b[0m, in \u001b[0;36mtrain_weight_function\u001b[0;34m(training_dataset, weights_labels, weight_network, lr, epochs)\u001b[0m\n\u001b[1;32m    181\u001b[0m \u001b[39mfor\u001b[39;00m epoch \u001b[39min\u001b[39;00m tqdm_epochs:\n\u001b[1;32m    182\u001b[0m     \u001b[39mfor\u001b[39;00m batch \u001b[39min\u001b[39;00m \u001b[39mlist\u001b[39m(data_batches):\n\u001b[0;32m--> 183\u001b[0m         batch \u001b[39m=\u001b[39m torch\u001b[39m.\u001b[39;49mstack(batch, \u001b[39m0\u001b[39;49m)\n\u001b[1;32m    184\u001b[0m         x_batch \u001b[39m=\u001b[39m batch[:,:\u001b[39m-\u001b[39m\u001b[39m1\u001b[39m]\n\u001b[1;32m    185\u001b[0m         y_batch \u001b[39m=\u001b[39m batch[:,\u001b[39m-\u001b[39m\u001b[39m1\u001b[39m]\u001b[39m.\u001b[39munsqueeze(\u001b[39m1\u001b[39m)\n",
      "\u001b[0;31mKeyboardInterrupt\u001b[0m: "
     ]
    }
   ],
   "source": [
    "from tqdm.notebook import tqdm\n",
    "\n",
    "epsilons = np.linspace(0.05, 0.9, 10)\n",
    "N_SIMS = 10\n",
    "\n",
    "epsilon_avg_lengths = np.zeros((N_SIMS, len(epsilons)))\n",
    "epsilon_std_lengths = np.zeros((N_SIMS, len(epsilons)))\n",
    "coverages = np.zeros((N_SIMS, len(epsilons)))\n",
    "\n",
    "for n in range(N_SIMS):\n",
    "    print(f'Sim: {n}')\n",
    "    for id_epsilon, epsilon_value in enumerate(epsilons):\n",
    "        print(f'Epsilon = {epsilon_value}')\n",
    "        pi_star = MixedPolicy(pi_star_pre, behaviour_policy, epsilon_value)\n",
    "        test_points = collect_exp(env, 100, HORIZON, pi_star, None, test_state)\n",
    "\n",
    "        print(f'> Estimate weights for calibration data')\n",
    "        weights_estimator = WeightsEstimator(behaviour_policy, pi_star, lower_quantile_net, upper_quantile_net)\n",
    "        if GRADIENT_BASED:\n",
    "            scores, weights, weight_network = weights_estimator.gradient_method(data_tr, data_cal, LR, EPOCHS, lambda:WeightsMLP(2, 32, 1, upper_quantile_net.mean, upper_quantile_net.std))\n",
    "        else:\n",
    "            scores, weight = weights_estimator.model_based(data_tr, data_cal, HORIZON, model)\n",
    "\n",
    "        # Generate y values for test point\n",
    "        print(f'> Computing conformal set')\n",
    "        conformal_set = ConformalSet(lower_quantile_net, upper_quantile_net, behaviour_policy, pi_star, model, HORIZON)\n",
    "        y_set, intervals = conformal_set.build_set(test_points, weights, scores, weight_network, GRADIENT_BASED)\n",
    "\n",
    "        included = 0\n",
    "        lengths = []\n",
    "        for interval in intervals:\n",
    "            if interval[-1] >= interval[2] and interval[-1] <= interval[3]:\n",
    "                included += 1\n",
    "            lengths.append(interval[3]-interval[2])\n",
    "\n",
    "        included = included/len(intervals)\n",
    "        mean_length = np.mean(lengths)\n",
    "        epsilon_avg_lengths[n, id_epsilon] = mean_length\n",
    "        epsilon_std_lengths[n, id_epsilon] = np.std(lengths)\n",
    "        coverages[n, id_epsilon] = included * 100\n",
    "        print(\"Coverage: {:.2f}% | Average interval length: {}\".format(included*100, mean_length))"
   ]
  },
  {
   "cell_type": "code",
   "execution_count": 6,
   "metadata": {},
   "outputs": [],
   "source": [
    "data_new = epsilon_lengths"
   ]
  },
  {
   "cell_type": "code",
   "execution_count": 16,
   "metadata": {},
   "outputs": [
    {
     "data": {
      "text/plain": [
       "Text(0, 0.5, 'Interval length')"
      ]
     },
     "execution_count": 16,
     "metadata": {},
     "output_type": "execute_result"
    },
    {
     "data": {
      "image/png": "[encoded data removed]",
      "text/plain": [
       "<Figure size 640x480 with 1 Axes>"
      ]
     },
     "metadata": {},
     "output_type": "display_data"
    }
   ],
   "source": [
    "import matplotlib.pyplot as plt\n",
    "plt.errorbar(epsilons, data_new.mean(0), 2.2*data_new.std(0) / np.sqrt(5))\n",
    "plt.xlabel('$\\epsilon$')\n",
    "plt.ylabel('Interval length')"
   ]
  }
 ],
 "metadata": {
  "kernelspec": {
   "display_name": "Python 3.9.15 ('rlattacks')",
   "language": "python",
   "name": "python3"
  },
  "language_info": {
   "codemirror_mode": {
    "name": "ipython",
    "version": 3
   },
   "file_extension": ".py",
   "mimetype": "text/x-python",
   "name": "python",
   "nbconvert_exporter": "python",
   "pygments_lexer": "ipython3",
   "version": "3.9.15"
  },
  "orig_nbformat": 4,
  "vscode": {
   "interpreter": {
    "hash": "fd46f8df1a17911cdf966eb0a842e70915ea0512e3b1849c0b4b4b5a38ed7a72"
   }
  }
 },
 "nbformat": 4,
 "nbformat_minor": 2
}
