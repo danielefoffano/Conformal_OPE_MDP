{
 "cells": [
  {
   "cell_type": "code",
   "execution_count": 31,
   "metadata": {},
   "outputs": [],
   "source": [
    "import pandas as pd\n",
    "import lzma\n",
    "import numpy as np\n",
    "import matplotlib.pyplot as plt\n",
    "import os, glob\n",
    "from scipy.stats import t as tstudent"
   ]
  },
  {
   "cell_type": "code",
   "execution_count": 34,
   "metadata": {},
   "outputs": [],
   "source": [
    "def fetch_results(horizon: int, method: str):\n",
    "    files = []\n",
    "    for file in glob.glob(f\"results/inventory/{method}/horizon_{horizon}/*.csv\"):\n",
    "        files.append(file)\n",
    "    return files\n",
    "\n",
    "def compute_CE(mu, std, N: int, c = 0.95):\n",
    "    alpha = c + (1-c)/2\n",
    "    c = tstudent.ppf(alpha, N)\n",
    "    return c * std/ np.sqrt(N)"
   ]
  },
  {
   "cell_type": "code",
   "execution_count": 5,
   "metadata": {},
   "outputs": [
    {
     "name": "stdout",
     "output_type": "stream",
     "text": [
      "results/inventory/empirical/horizon_20/run_28.csv\n",
      "results/inventory/empirical/horizon_20/run_0.csv\n",
      "results/inventory/empirical/horizon_20/run_27.csv\n",
      "results/inventory/empirical/horizon_20/run_26.csv\n",
      "results/inventory/empirical/horizon_20/run_1.csv\n",
      "results/inventory/empirical/horizon_20/run_3.csv\n",
      "results/inventory/empirical/horizon_20/run_25.csv\n",
      "results/inventory/empirical/horizon_20/run_2.csv\n"
     ]
    }
   ],
   "source": [
    "METHODS = ['empirical']#, 'gradient']\n",
    "HORIZONS = [20]#5, 10, 15, 20, 25]\n",
    "epsilons = np.linspace(0, 1, 21)\n",
    "scores_names = []\n",
    "data = {}\n",
    "\n",
    "for method in METHODS:\n",
    "    data[method] = {}\n",
    "    for horizon in HORIZONS:\n",
    "        files = fetch_results(horizon, method)\n",
    "        data[method][horizon] = {}\n",
    "        for file_id, file in enumerate(files):\n",
    "            data[method][horizon][file_id] = pd.read_csv('./' + file)\n"
   ]
  },
  {
   "cell_type": "code",
   "execution_count": 61,
   "metadata": {},
   "outputs": [
    {
     "name": "stderr",
     "output_type": "stream",
     "text": [
      "No handles with labels found to put in legend.\n"
     ]
    },
    {
     "name": "stdout",
     "output_type": "stream",
     "text": [
      "[{'label': 'Original score', 'whislo': 173.14418658409593, 'q1': 183.25, 'med': 224.875, 'q3': 266.5, 'whishi': 277.9307647049284, 'fliers': []}]\n"
     ]
    },
    {
     "data": {
      "image/png": "[encoded data removed]",
      "text/plain": [
       "<Figure size 432x288 with 1 Axes>"
      ]
     },
     "metadata": {
      "needs_background": "light"
     },
     "output_type": "display_data"
    }
   ],
   "source": [
    "\n",
    "def compute_mean_std(key: str):\n",
    "    mu = []\n",
    "    std = []\n",
    "    n = 0\n",
    "    for method in METHODS:\n",
    "        for horizon in HORIZONS:\n",
    "            data_m_h = data[method][horizon]\n",
    "            for id_run in data_m_h:\n",
    "                n += 1\n",
    "                mu.append(data_m_h[id_run][f'avg_{key}'].to_numpy())\n",
    "                std.append(data_m_h[id_run][f'std_{key}'].to_numpy())\n",
    "    \n",
    "    mu = np.array(mu)\n",
    "    std = np.array(std)\n",
    "    return mu.mean(axis=0), mu.std(ddof=1,axis=0) + std.mean(axis=0), n\n",
    "\n",
    "keys = {\n",
    "    'Original score': {\n",
    "        'lower': 'interval_target_lower',\n",
    "        'upper': 'interval_target_upper'\n",
    "    },\n",
    "    # 'Double quantile score': {\n",
    "    #     'lower': 'interval_target_double_lower',\n",
    "    #     'upper': 'interval_target_double_upper'\n",
    "    # },\n",
    "    # 'Cumulative score': {\n",
    "    #     'lower': 'interval_target_cumul_lower',\n",
    "    #     'upper': 'interval_target_cumul_upper'\n",
    "    # }\n",
    "    \n",
    "}\n",
    "     # if id > 0:\n",
    "        #     plt.plot(epsilons, mu_lower_original)\n",
    "        # else:\n",
    "        #     plt.plot(epsilons, mu_lower_original, label = name)\n",
    "        # plt.fill_between(\n",
    "        #     epsilons,\n",
    "        #     mu_lower_original - ce_lower_original,\n",
    "        #     mu_lower_original + ce_lower_original, alpha=0.2)\n",
    "\n",
    "fig, ax = plt.subplots()\n",
    "\n",
    "for name in keys:\n",
    "    mu_lower_original, std_lower_original, n_lower_original = compute_mean_std(keys[name]['lower'])\n",
    "    ce_lower_original = compute_CE(mu_lower_original, std_lower_original, n_lower_original)\n",
    "    \n",
    "    mu_upper_original, std_upper_original, n_upper_original = compute_mean_std(keys[name]['upper'])\n",
    "    ce_upper_original = compute_CE(mu_upper_original, std_upper_original, n_upper_original)\n",
    "   \n",
    "    \n",
    "    median = (mu_upper_original + mu_lower_original)/2\n",
    "        \n",
    "    boxes = [\n",
    "        {\n",
    "            'label' : name,\n",
    "            'whislo': mu_lower_original[0] - ce_lower_original[0],    # Bottom whisker position\n",
    "            'q1'    : mu_lower_original[0],    # First quartile (25th percentile)\n",
    "            'med'   : median[0],    # Median         (50th percentile)\n",
    "            'q3'    : mu_upper_original[0],    # Third quartile (75th percentile)\n",
    "            'whishi': mu_upper_original[0] + ce_upper_original[0],    # Top whisker position\n",
    "            'fliers': []        # Outliers\n",
    "        }\n",
    "    ]\n",
    "    print(boxes)\n",
    "    ax.bxp(boxes, showfliers=False)\n",
    "plt.grid()\n",
    "plt.legend()\n",
    "plt.show()"
   ]
  },
  {
   "cell_type": "code",
   "execution_count": 14,
   "metadata": {},
   "outputs": [
    {
     "data": {
      "text/plain": [
       "Index(['epsilon', 'coverage', 'coverage_double', 'coverage_cumul',\n",
       "       'avg_length', 'std_length', 'avg_length_double', 'std_length_double',\n",
       "       'avg_length_cumul', 'std_length_cumul', 'avg_interval_target_lower',\n",
       "       'avg_interval_target_upper', 'std_interval_target_lower',\n",
       "       'std_interval_target_upper', 'avg_interval_target_double_lower',\n",
       "       'avg_interval_target_double_upper', 'std_interval_target_double_lower',\n",
       "       'std_interval_target_double_upper', 'avg_interval_target_cumul_lower',\n",
       "       'avg_interval_target_cumul_upper', 'std_interval_target_cumul_lower',\n",
       "       'std_interval_target_cumul_upper', 'avg_interval_behavior_lower',\n",
       "       'avg_interval_behavior_upper', 'std_interval_behavior_lower',\n",
       "       'std_interval_behavior_upper', 'avg_quantile', 'avg_std_quantile',\n",
       "       'std_avg_quantile', 'avg_double_quantile_low',\n",
       "       'avg_std_double_quantile_low', 'std_avg_double_quantile_low',\n",
       "       'avg_double_quantile_high', 'avg_std_double_quantile_high',\n",
       "       'std_avg_double_quantile_high', 'avg_cumul_quantile_low',\n",
       "       'avg_std_cumul_quantile_low', 'std_avg_cumul_quantile_low',\n",
       "       'avg_cumul_quantile_high', 'avg_std_cumul_quantile_high',\n",
       "       'std_avg_cumul_quantile_high', 'horizon', 'epsilon_pi_behavior',\n",
       "       'avg_weights', 'std_weights', 'avg_log_ratio_what_w',\n",
       "       'std_log_ratio_what_w', 'median_log_ratio_what_w', 'avg_delta_w',\n",
       "       'std_delta_w', 'median_delta_w'],\n",
       "      dtype='object')"
      ]
     },
     "execution_count": 14,
     "metadata": {},
     "output_type": "execute_result"
    }
   ],
   "source": [
    "data['empirical'][20][0].columns"
   ]
  },
  {
   "cell_type": "code",
   "execution_count": 47,
   "metadata": {},
   "outputs": [],
   "source": [
    "horizon_lengths = []\n",
    "horizon_coverage = []\n",
    "horizon_lengths_double = []\n",
    "horizon_coverage_double = []\n",
    "horizon_lengths_cumul = []\n",
    "horizon_coverage_cumul = []\n",
    "horizon_lengths_std = []\n",
    "horizon_coverage_std = []\n",
    "horizon_lengths_std_double = []\n",
    "horizon_coverage_std_double = []\n",
    "horizon_lengths_std_cumul = []\n",
    "horizon_coverage_std_cumul = []\n",
    "#horizons = [5,10,15,20,25]\n",
    "\n",
    "for method in METHODS:\n",
    "    for horizon in HORIZONS:\n",
    "        avg_length = []\n",
    "        avg_length_double = []\n",
    "        avg_length_cumul = []\n",
    "        coverage = []\n",
    "        coverage_double = []\n",
    "        coverage_cumul = []\n",
    "\n",
    "        for file_id, file in enumerate(files):\n",
    "\n",
    "            avg_length = data[method][horizon][file_id][\"avg_length\"].to_numpy() if len(avg_length) == 0 else np.vstack((avg_length, data[method][horizon][file_id][\"avg_length\"].to_numpy()))\n",
    "            avg_length_double = data[method][horizon][file_id][\"avg_length_double\"].to_numpy() if len(avg_length_double) == 0 else np.vstack((avg_length_double, data[method][horizon][file_id][\"avg_length_double\"].to_numpy()))\n",
    "            avg_length_cumul = data[method][horizon][file_id][\"avg_length_cumul\"].to_numpy() if len(avg_length_cumul) == 0 else np.vstack((avg_length_cumul, data[method][horizon][file_id][\"avg_length_cumul\"].to_numpy()))\n",
    "\n",
    "            coverage = data[method][horizon][file_id][\"coverage\"].to_numpy() if len(coverage) == 0 else np.vstack((coverage, data[method][horizon][file_id][\"coverage\"].to_numpy()))\n",
    "            coverage_double = data[method][horizon][file_id][\"coverage_double\"].to_numpy() if len(coverage_double) == 0 else np.vstack((coverage_double, data[method][horizon][file_id][\"coverage_double\"].to_numpy()))\n",
    "            coverage_cumul = data[method][horizon][file_id][\"coverage_cumul\"].to_numpy() if len(coverage_cumul) == 0 else np.vstack((coverage_cumul, data[method][horizon][file_id][\"coverage_cumul\"].to_numpy()))\n",
    "\n",
    "        horizon_lengths.append(np.mean(avg_length, 0))\n",
    "        horizon_coverage.append(np.mean(coverage, 0))\n",
    "        horizon_lengths_double.append(np.mean(avg_length_double, 0))\n",
    "        horizon_coverage_double.append(np.mean(coverage_double, 0))\n",
    "        horizon_lengths_cumul.append(np.mean(avg_length_cumul, 0))\n",
    "        horizon_coverage_cumul.append(np.mean(coverage_cumul, 0))\n",
    "\n",
    "        horizon_lengths_std.append(np.std(avg_length, 0))\n",
    "        horizon_coverage_std.append(np.std(coverage, 0))\n",
    "        horizon_lengths_std_double.append(np.std(avg_length_double, 0))\n",
    "        horizon_coverage_std_double.append(np.std(coverage_double, 0))\n",
    "        horizon_lengths_std_cumul.append(np.std(avg_length_cumul, 0))\n",
    "        horizon_coverage_std_cumul.append(np.std(coverage_cumul, 0))\n",
    "\n",
    "horizon_lengths = np.array(horizon_lengths)\n",
    "horizon_coverage = np.array(horizon_coverage)\n",
    "horizon_lengths_double = np.array(horizon_lengths_double)\n",
    "horizon_coverage_double = np.array(horizon_coverage_double)\n",
    "horizon_lengths_cumul = np.array(horizon_lengths_cumul)\n",
    "horizon_coverage_cumul = np.array(horizon_coverage_cumul)\n",
    "horizon_lengths_std = np.array(horizon_lengths_std)\n",
    "horizon_coverage_std = np.array(horizon_coverage_std)\n",
    "horizon_lengths_std_double = np.array(horizon_lengths_std_double)\n",
    "horizon_coverage_std_double = np.array(horizon_coverage_std_double)\n",
    "horizon_lengths_std_cumul = np.array(horizon_lengths_std_cumul)\n",
    "horizon_coverage_std_cumul = np.array(horizon_coverage_std_cumul)"
   ]
  },
  {
   "cell_type": "code",
   "execution_count": 38,
   "metadata": {},
   "outputs": [
    {
     "data": {
      "text/plain": [
       "array([[ 83.25 , 100.125, 100.875,  98.125,  90.875,  84.875,  78.5  ,\n",
       "         74.875,  73.625,  74.875,  78.625,  84.875,  91.75 ,  99.5  ,\n",
       "        104.375, 107.25 , 108.25 , 108.625, 108.375, 107.5  , 105.875]])"
      ]
     },
     "execution_count": 38,
     "metadata": {},
     "output_type": "execute_result"
    }
   ],
   "source": [
    "horizon_lengths"
   ]
  },
  {
   "cell_type": "code",
   "execution_count": 48,
   "metadata": {},
   "outputs": [
    {
     "data": {
      "image/png": "[encoded data removed]",
      "text/plain": [
       "<Figure size 864x432 with 2 Axes>"
      ]
     },
     "metadata": {
      "needs_background": "light"
     },
     "output_type": "display_data"
    }
   ],
   "source": [
    "import matplotlib.pyplot as plt\n",
    "fig, ax = plt.subplots(1,2, figsize=(12,6))\n",
    "\n",
    "for i in range(1):\n",
    "    line = ax[0].errorbar(epsilons, horizon_lengths[i], 2.2*horizon_lengths_std[i] / np.sqrt(5))\n",
    "    line.set_label(f\"Symmetric method\")\n",
    "    ax[0].set_xlabel('$\\epsilon$')\n",
    "    ax[0].set_ylabel('Interval length')\n",
    "    ax[0].grid()\n",
    "\n",
    "    line = ax[0].errorbar(epsilons, horizon_lengths_double[i], 2.2*horizon_lengths_std_double[i] / np.sqrt(5))\n",
    "    line.set_label(f\"Double method\")\n",
    "    ax[0].set_xlabel('$\\epsilon$')\n",
    "    ax[0].set_ylabel('Interval length')\n",
    "    ax[0].grid()\n",
    "\n",
    "    line = ax[0].errorbar(epsilons, horizon_lengths_cumul[i], 2.2*horizon_lengths_std_cumul[i] / np.sqrt(5))\n",
    "    line.set_label(f\"Cumul method\")\n",
    "    ax[0].set_xlabel('$\\epsilon$')\n",
    "    ax[0].set_ylabel('Interval length')\n",
    "    ax[0].grid()\n",
    "\n",
    "    ax[1].errorbar(epsilons, horizon_coverage[i], 2.2*horizon_coverage_std[i] / np.sqrt(5))\n",
    "    ax[1].set_xlabel('$\\epsilon$')\n",
    "    ax[1].set_ylabel('Coverage')\n",
    "    ax[1].grid()\n",
    "\n",
    "    ax[1].errorbar(epsilons, horizon_coverage_double[i], 2.2*horizon_coverage_std_double[i] / np.sqrt(5))\n",
    "    ax[1].set_xlabel('$\\epsilon$')\n",
    "    ax[1].set_ylabel('Coverage')\n",
    "    ax[1].grid()\n",
    "\n",
    "    ax[1].errorbar(epsilons, horizon_coverage_cumul[i], 2.2*horizon_coverage_std_cumul[i] / np.sqrt(5))\n",
    "    ax[1].set_xlabel('$\\epsilon$')\n",
    "    ax[1].set_ylabel('Coverage')\n",
    "    ax[1].grid()\n",
    "fig.legend()\n",
    "plt.savefig('results.pdf')"
   ]
  },
  {
   "cell_type": "code",
   "execution_count": 19,
   "metadata": {},
   "outputs": [
    {
     "data": {
      "text/plain": [
       "array([[76.    , 83.2724, 95.    , 94.    , 96.    , 71.    , 41.    ,\n",
       "         5.    ,  1.    ,  0.    ],\n",
       "       [88.    , 91.254 , 90.    , 86.    , 84.    , 68.    , 42.    ,\n",
       "         3.    ,  1.    ,  0.    ],\n",
       "       [87.    , 93.    , 89.    , 79.    , 77.    , 52.    , 29.    ,\n",
       "         2.    ,  1.    ,  0.    ],\n",
       "       [87.    , 93.    , 88.    , 70.    , 72.    , 51.    , 22.    ,\n",
       "         2.    ,  1.    ,  0.    ],\n",
       "       [87.    , 93.    , 85.    , 67.    , 67.    , 41.    , 38.    ,\n",
       "         0.    ,  1.    ,  0.    ]])"
      ]
     },
     "execution_count": 19,
     "metadata": {},
     "output_type": "execute_result"
    }
   ],
   "source": []
  },
  {
   "cell_type": "code",
   "execution_count": 2,
   "metadata": {},
   "outputs": [],
   "source": [
    "import numpy as np\n",
    "from random_mdp import MDPEnv, MDPEnvDiscreteRew, MDPEnvBernoulliRew\n",
    "from agent import QlearningAgent\n",
    "from greedy_policy import EpsilonGreedyPolicy, TableBasedPolicy, MixedPolicy\n",
    "from utils import get_data, collect_exp, train_predictor, train_behaviour_policy, value_iteration, save_important_dictionary\n",
    "from networks import MLP, WeightsMLP, WeightsTransformerMLP\n",
    "from dynamics_model import DynamicsModel, DiscreteRewardDynamicsModel, ContinuousRewardDynamicsModel\n",
    "import torch\n",
    "from collections import defaultdict\n",
    "import pickle\n",
    "import random\n",
    "from weights import WeightsEstimator, ExactWeightsEstimator\n",
    "from conformal_set import ConformalSet\n",
    "from custom_environments.inventory import Inventory\n",
    "from multiprocessing import freeze_support\n",
    "from logger import Logger\n",
    "import os\n",
    "\n",
    "important_stuff = None\n",
    "with open(\"horizon/horizon_25/data/useful_saves_run_1_0.5.pkl\", \"rb\") as f2:\n",
    "    important_stuff = pickle.load(f2)"
   ]
  },
  {
   "cell_type": "code",
   "execution_count": 5,
   "metadata": {},
   "outputs": [],
   "source": [
    "weights_estimator = important_stuff[\"Weights_estimator\"]\n",
    "exact_weights_estimator = important_stuff[\"Exact_weights_estimator\"]\n",
    "conformal_set = important_stuff[\"Conformal_set\"]\n",
    "weights = important_stuff[\"weights\"]\n",
    "scores = important_stuff[\"scores\"]\n",
    "weight_network = important_stuff[\"weight_network\"]\n",
    "env = important_stuff[\"env\"]\n",
    "pi_target = conformal_set.pi_star\n",
    "pi_b = conformal_set.behaviour_policy"
   ]
  },
  {
   "cell_type": "code",
   "execution_count": 6,
   "metadata": {},
   "outputs": [
    {
     "name": "stdout",
     "output_type": "stream",
     "text": [
      "[212, 271, 347, 240, 283, 274, 271, 312, 308, 323, 254, 293, 272, 292, 253, 293, 249, 210, 262, 268, 295, 289, 276, 294, 281, 275, 217, 293, 264, 311, 267, 285, 259, 310, 267, 247, 273, 301, 311, 245, 267, 248, 296, 261, 303, 283, 255, 303, 287, 290, 289, 284, 274, 261, 265, 263, 297, 253, 258, 273, 255, 224, 279, 237, 291, 278, 282, 329, 321, 302, 310, 257, 228, 267, 226, 265, 274, 297, 271, 279, 254, 254, 273, 301, 269, 267, 251, 267, 272, 310, 321, 336, 297, 251, 301, 302, 298, 279, 286, 251, 261, 207, 262, 269, 282, 299, 248, 239, 285, 231, 277, 277, 276, 283, 257, 273, 268, 301, 253, 309, 218, 236, 248, 258, 264, 277, 267, 223, 248, 301, 300, 283, 230, 337, 285, 248, 286, 285, 277, 276, 284, 287, 301, 254, 267, 245, 295, 267, 312, 271, 267, 202, 260, 263, 307, 270, 297, 292, 254, 281, 264, 308, 247, 240, 245, 268, 353, 265, 262, 272, 317, 257, 272, 318, 252, 275, 300, 299, 245, 297, 249, 251, 285, 265, 297, 225, 325, 213, 301, 295, 244, 264, 296, 259, 264, 293, 295, 257, 243, 275, 291, 252, 260, 311, 307, 306, 268, 292, 265, 283, 245, 268, 265, 269, 256, 245, 279, 304, 287, 296, 288, 279, 282, 232, 263, 249, 303, 313, 273, 310, 275, 280, 204, 282, 239, 272, 242, 237, 280, 231, 309, 274, 278, 213, 274, 304, 268, 275, 229, 260, 271, 299, 220, 337, 265, 273, 313, 268, 258, 285, 305, 239, 274, 285, 300, 316, 262, 236, 278, 263, 249, 263, 248, 282, 281, 241, 291, 248, 315, 282, 235, 286, 261, 283, 282, 331, 271, 279, 238, 274, 314, 289, 257, 297, 254, 285, 254, 278, 269, 232, 287, 271, 315, 298, 281, 276, 273, 285, 255, 255, 310, 294, 277, 235, 249, 301, 266, 299, 273, 285, 257, 228, 223, 257, 272, 220, 312, 264, 273, 349, 232, 245, 273, 276, 266, 266, 327, 269, 248, 302, 243, 229, 228, 297, 254, 268, 331, 258, 268, 309, 275, 271, 295, 291, 288, 260, 266, 303, 279, 296, 272, 267, 294, 282, 232, 287, 266, 285, 285, 286, 262, 301, 237, 232, 281, 321, 245, 258, 246, 231, 292, 250, 223, 254, 287, 311, 307, 243, 258, 239, 347, 267, 249, 268, 282, 277, 260, 275, 264, 279, 297, 282, 266, 257, 290, 251, 269, 257, 272, 265, 278, 254, 288, 257, 290, 272, 305, 256, 270, 270, 295, 321, 275, 325, 236, 237, 281, 267, 257, 267, 281, 267, 304, 238, 246, 245, 216, 236, 302, 295, 218, 222, 257, 234, 281, 233, 286, 220, 285, 311, 265, 251, 237, 273, 275, 287, 293, 264, 253, 271, 303, 235, 277, 269, 229, 300, 264, 255, 234, 242, 240, 301, 235, 293, 291, 232, 252, 277, 283, 288, 257, 256, 271, 228, 240, 282, 308, 221, 266, 277, 288, 259, 312, 250, 286, 303, 237, 273, 276, 251, 264, 246, 282, 331, 298, 284, 277, 277, 259, 253, 311, 270, 221, 235, 242, 281, 271, 263, 291, 282, 206, 285, 252, 292, 238, 287, 244, 214, 290, 300, 292, 267, 264, 253, 287, 327, 223, 284, 193, 240, 228, 248, 252, 196, 273, 259, 265, 263, 277, 273, 241, 304, 298, 275, 238, 303, 269, 290, 238, 303, 240, 281, 299, 288, 251, 283, 270, 255, 294, 252, 268, 279, 285, 252, 245, 287, 291, 243, 221, 254, 281, 294, 281, 283, 313, 249, 245, 269, 280, 277, 259, 279, 281, 216, 277, 249, 257, 310, 278, 246, 217, 313, 275, 287, 272, 270, 274, 259, 232, 284, 245, 245, 225, 289, 271, 234, 256, 282, 292, 262, 288, 243, 254, 250, 330, 259, 261, 322, 288, 271, 276, 286, 230, 275, 278, 274, 231, 286, 231, 281, 275, 277, 274, 280, 327, 285, 229, 315, 222, 299, 280, 247, 264, 244, 311, 257, 269, 239, 302, 210, 258, 305, 277, 255, 304, 264, 248, 249, 261, 286, 254, 285, 275, 275, 303, 250, 226, 278, 279, 236, 230, 249, 234, 315, 255, 293, 287, 252, 269, 250, 282, 250, 281, 285, 303, 253, 283, 253, 278, 296, 265, 278, 262, 265, 283, 307, 235, 279, 278, 277, 296, 256, 226, 237, 260, 226, 244, 283, 268, 298, 298, 303, 311, 257, 287, 325, 305, 273, 316, 280, 260, 275, 251, 241, 285, 253, 285, 318, 259, 246, 249, 302, 285, 281, 245, 282, 252, 311, 258, 273, 283, 285, 329, 268, 230, 249, 249, 271, 262, 305, 302, 264, 287, 285, 293, 251, 270, 273, 290, 258, 248, 267, 223, 290, 260, 268, 268, 252, 255, 279, 271, 312, 299, 323, 296, 232, 273, 256, 309, 314, 317, 226, 295, 270, 295, 169, 231, 271, 245, 251, 298, 315, 299, 235, 275, 227, 275, 239, 241, 277, 297, 284, 296, 285, 299, 297, 282, 336, 293, 233, 313, 280, 293, 291, 253, 275, 283, 243, 259, 238, 279, 244, 261, 256, 248, 281, 287, 256, 281, 286, 281, 327, 233, 260, 250, 215, 279, 264, 284, 297, 254, 305, 263, 255, 303, 241, 251, 283, 271, 257, 285, 283, 257, 296, 256, 287, 306, 250, 195, 210, 275, 261, 296, 285, 243, 256, 285, 284, 228, 302, 282, 276, 241, 306, 256, 271, 220, 224, 216, 254, 317, 275, 273, 314, 309, 260, 251, 244, 269, 303, 239, 299, 252, 291, 253, 287, 286, 246, 277, 273, 246, 268, 319, 272, 295, 242, 302, 289, 242, 251, 274, 292, 278, 285, 240, 255, 285, 293, 288, 244, 261, 266, 249, 275, 274, 280, 252, 304, 279, 289, 296, 238, 264, 241, 300, 310, 302, 289, 286, 246, 253, 222, 226, 309, 273, 224, 288, 292, 245, 258, 281, 217, 287, 276, 289, 280, 321, 278, 234, 268, 281, 252, 274, 268, 235, 322, 293, 245, 279, 309, 243, 284, 277, 239, 243, 265, 245, 260, 256, 243, 320, 256, 259, 260, 273, 269, 272, 273, 284, 184, 191, 260, 250, 275, 239, 293, 286, 267, 247, 245, 272, 251, 299, 299, 263, 301, 246, 231, 229, 284, 254, 255, 317, 271, 256, 301, 278, 286, 282, 264, 303, 261, 293, 280, 299, 271, 236, 261, 246, 307, 297, 293, 308, 305, 253, 313, 285, 253, 226, 243, 269, 289, 256, 285, 245, 280, 252, 234, 275, 278, 241, 283, 312, 257, 263, 271, 274, 272, 254, 256, 289, 303, 266, 261, 271, 268, 305, 287, 286, 267, 279, 318, 236, 261, 278, 307, 290, 274, 294, 283, 255, 277, 298, 294, 306, 252, 292, 300, 262, 257, 305, 260, 236, 305, 225, 274, 245, 288, 277, 273, 232, 274, 265, 251, 240, 300, 251, 321, 308, 287, 257, 259, 283, 237, 243, 263, 266, 254, 224, 302, 273, 298, 275, 233, 232, 298, 278, 302, 259, 291, 260, 243, 315, 299, 271, 215, 254, 262, 279, 301, 293, 296, 265, 317, 290, 272, 282, 283, 343, 300, 331, 259, 240, 301, 299, 279, 260, 246, 273, 240, 275, 232, 304, 282, 250, 272, 257, 283, 265, 315, 233, 240, 256, 244, 288, 242, 251, 281, 313, 269, 248, 281, 251, 280, 231, 245, 268, 259, 246, 298, 260, 232, 257, 255, 303, 303, 296, 269, 315, 279, 226, 278, 312, 238, 282, 315, 272, 267, 262, 254, 246, 213, 262, 289, 281, 286, 266, 293, 263, 307, 272, 248, 307, 258, 244, 255, 205, 252, 309, 261, 255, 264, 327, 226, 312, 270, 298, 279, 275, 302, 251, 285, 313, 266, 251, 287, 309, 287, 221, 295, 304, 295, 283, 273, 252, 311, 266, 276, 293, 210, 247, 287, 296, 282, 288, 252, 257, 287, 299, 294, 260, 276, 250, 256, 307, 307, 299, 263, 254, 321, 203, 309, 255, 285, 243, 263, 246, 220, 253, 296, 241, 261, 272, 299, 278, 264, 301, 233, 246, 294, 200, 244, 266, 284, 266, 241, 250, 214, 255, 219, 247, 238, 298, 290, 259, 248, 317, 294, 278, 329, 313, 283, 254, 280, 275, 314, 255, 297, 260, 234, 258, 256, 273, 298, 229, 292, 312, 259, 220, 287, 245, 221, 218, 318, 236, 267, 288, 300, 265, 313, 269, 268, 291, 285, 274, 257, 246, 275, 229, 270, 287, 256, 273, 241, 304, 263, 274, 291, 247, 293, 287, 259, 264, 246, 261, 238, 293, 298, 242, 247, 261, 270, 265, 272, 303, 290, 279, 274, 264, 246, 303, 279, 290, 277, 243, 270, 276, 237, 275, 260, 230, 297, 253, 290, 248, 325, 254, 229, 262, 257, 263, 231, 252, 248, 303, 269, 293, 273, 221, 315, 233, 251, 223, 297, 277, 312, 284, 271, 273, 281, 286, 286, 319, 244, 274, 295, 295, 301, 262, 246, 267, 268, 307, 302, 255, 263, 301, 247, 254, 264, 307, 298, 274, 285, 243, 260, 346, 290, 258, 278, 283, 270, 276, 276, 277, 269, 296, 324, 267, 238, 276, 282, 296, 256, 302, 291, 279, 314, 266, 287, 304, 268, 262, 197, 307, 302, 244, 306, 266, 290, 213, 247, 315, 217, 269, 289, 262, 248, 271, 317, 247, 271, 277, 245, 306, 280, 298, 293, 207, 253, 229, 323, 242, 286, 206, 308, 264, 261, 283, 222, 294, 311, 240, 278, 269, 257, 279, 235, 309, 291, 267, 262, 250, 210, 293, 230, 247, 200, 280, 304, 242, 304, 288, 307, 313, 257, 274, 259, 279, 297, 187, 266, 235, 282, 233, 293, 291, 291, 327, 267, 301, 272, 262, 254, 303, 276, 226, 277, 294, 290, 304, 280, 240, 236, 279, 282, 321, 309, 258, 255, 229, 251, 251, 307, 233, 262, 247, 268, 269, 301, 254, 284, 275, 299, 268, 248, 164, 205, 255, 265, 306, 288, 237, 289, 292, 286, 308, 277, 267, 317, 264, 299, 256, 278, 288, 282, 190, 269, 308, 289, 240, 233, 296, 313, 261, 315, 302, 278, 262, 313, 224, 240, 236, 340, 244, 284, 246, 295, 276, 248, 287, 278, 237, 250, 273, 279, 264, 283, 276, 259, 274, 266, 273, 287, 267, 280, 299, 287, 268, 298, 258, 283, 276, 272, 270, 280, 256, 286, 237, 305, 246, 268, 245, 271, 277, 279, 303, 300, 257, 262, 248, 266, 240, 201, 252, 259, 281, 261, 272, 297, 284, 311, 307, 250, 260, 302, 311, 266, 282, 293, 274, 265, 284, 248, 222, 320, 278, 296, 295, 253, 275, 263, 266, 243, 225, 287, 250, 306, 300, 257, 291, 282, 279, 254, 256, 291, 267, 279, 199, 250, 277, 259, 280, 243, 284, 319, 302, 244, 274, 245, 266, 263, 297, 235, 297, 236, 274, 297, 251, 266, 251, 302, 260, 291, 327, 239, 282, 293, 299, 263, 279, 286, 280, 254, 248, 250, 244, 287, 268, 275, 302, 301, 288, 287, 241, 269, 241, 239, 255, 267, 301, 262, 250, 315, 303, 287, 267, 250, 297, 297, 242, 275, 283, 195, 269, 279, 287, 241, 300, 293, 303, 224, 292, 277, 290, 253, 248, 297, 302, 249, 262, 260, 271, 279, 251, 269, 246, 248, 250, 288, 220, 259, 265, 271, 298, 288, 248, 292, 239, 272, 306, 329, 291, 263, 329, 237, 269, 252, 286, 261, 292, 278, 252, 265, 254, 274, 271, 289, 230, 282, 269, 233, 260, 261, 217, 264, 275, 238, 327, 309, 276, 281, 305, 290, 184, 298, 264, 299, 273, 249, 274, 263, 283, 273, 315, 269, 287, 260, 257, 252, 262, 259, 253, 319, 285, 267, 294, 297, 305, 259, 256, 197, 299, 233, 222, 284, 216, 276, 229, 260, 295, 274, 261, 285, 275, 264, 262, 299, 294, 279, 271, 300, 255, 227, 253, 259, 297, 323, 249, 300, 278, 291, 308, 271, 290, 281, 271, 314, 281, 286, 278, 289, 305, 209, 249, 311, 305, 280, 283, 319, 294, 264, 307, 293, 298, 276, 257, 242, 238, 264, 252, 278, 285, 273, 267, 226, 278, 291, 264, 256, 267, 224, 278, 254, 276, 317, 302, 248, 237, 226, 264, 249, 261, 248, 258, 276, 225, 243, 306, 255, 285, 295, 209, 255, 234, 293, 177, 239, 258, 291]\n"
     ]
    },
    {
     "ename": "KeyboardInterrupt",
     "evalue": "",
     "output_type": "error",
     "traceback": [
      "\u001b[0;31m---------------------------------------------------------------------------\u001b[0m",
      "\u001b[0;31mKeyboardInterrupt\u001b[0m                         Traceback (most recent call last)",
      "\u001b[0;32m<ipython-input-6-b105841c8d0c>\u001b[0m in \u001b[0;36m<module>\u001b[0;34m\u001b[0m\n\u001b[1;32m      4\u001b[0m     \u001b[0my_vals\u001b[0m \u001b[0;34m=\u001b[0m \u001b[0;34m[\u001b[0m\u001b[0mpoint\u001b[0m\u001b[0;34m[\u001b[0m\u001b[0;36m1\u001b[0m\u001b[0;34m]\u001b[0m \u001b[0;32mfor\u001b[0m \u001b[0mpoint\u001b[0m \u001b[0;32min\u001b[0m \u001b[0mtest_points\u001b[0m\u001b[0;34m]\u001b[0m\u001b[0;34m\u001b[0m\u001b[0;34m\u001b[0m\u001b[0m\n\u001b[1;32m      5\u001b[0m     \u001b[0mprint\u001b[0m\u001b[0;34m(\u001b[0m\u001b[0my_vals\u001b[0m\u001b[0;34m)\u001b[0m\u001b[0;34m\u001b[0m\u001b[0;34m\u001b[0m\u001b[0m\n\u001b[0;32m----> 6\u001b[0;31m     \u001b[0mintervals\u001b[0m\u001b[0;34m,\u001b[0m \u001b[0mlower_quantile\u001b[0m\u001b[0;34m,\u001b[0m \u001b[0mupper_quantile\u001b[0m\u001b[0;34m,\u001b[0m \u001b[0mquantiles\u001b[0m \u001b[0;34m=\u001b[0m \u001b[0mconformal_set\u001b[0m\u001b[0;34m.\u001b[0m\u001b[0mbuild_set\u001b[0m\u001b[0;34m(\u001b[0m\u001b[0mtest_points\u001b[0m\u001b[0;34m,\u001b[0m \u001b[0mweights\u001b[0m\u001b[0;34m,\u001b[0m \u001b[0mscores\u001b[0m\u001b[0;34m,\u001b[0m \u001b[0;36m1\u001b[0m\u001b[0;34m,\u001b[0m \u001b[0mweight_network\u001b[0m\u001b[0;34m,\u001b[0m \u001b[0;32mTrue\u001b[0m\u001b[0;34m)\u001b[0m\u001b[0;34m\u001b[0m\u001b[0;34m\u001b[0m\u001b[0m\n\u001b[0m\u001b[1;32m      7\u001b[0m \u001b[0;34m\u001b[0m\u001b[0m\n\u001b[1;32m      8\u001b[0m \u001b[0;34m\u001b[0m\u001b[0m\n",
      "\u001b[0;32m~/Documents/Conformal_OPE_MDP/conformal_set.py\u001b[0m in \u001b[0;36mbuild_set\u001b[0;34m(self, test_points, weights, scores, n_cpu, weight_network, gradient_based)\u001b[0m\n\u001b[1;32m     84\u001b[0m                     \u001b[0mnorm_weights\u001b[0m \u001b[0;34m=\u001b[0m \u001b[0mtorch\u001b[0m\u001b[0;34m.\u001b[0m\u001b[0mtensor\u001b[0m\u001b[0;34m(\u001b[0m\u001b[0mnorm_weights\u001b[0m\u001b[0;34m)\u001b[0m\u001b[0;34m\u001b[0m\u001b[0;34m\u001b[0m\u001b[0m\n\u001b[1;32m     85\u001b[0m \u001b[0;34m\u001b[0m\u001b[0m\n\u001b[0;32m---> 86\u001b[0;31m                     \u001b[0mordered_indexes\u001b[0m \u001b[0;34m=\u001b[0m \u001b[0mscores\u001b[0m\u001b[0;34m.\u001b[0m\u001b[0margsort\u001b[0m\u001b[0;34m(\u001b[0m\u001b[0;34m)\u001b[0m\u001b[0;34m\u001b[0m\u001b[0;34m\u001b[0m\u001b[0m\n\u001b[0m\u001b[1;32m     87\u001b[0m                     \u001b[0mordered_scores\u001b[0m \u001b[0;34m=\u001b[0m \u001b[0mscores\u001b[0m\u001b[0;34m[\u001b[0m\u001b[0mordered_indexes\u001b[0m\u001b[0;34m]\u001b[0m\u001b[0;34m\u001b[0m\u001b[0;34m\u001b[0m\u001b[0m\n\u001b[1;32m     88\u001b[0m                     \u001b[0mordered_weights\u001b[0m \u001b[0;34m=\u001b[0m \u001b[0mnorm_weights\u001b[0m\u001b[0;34m[\u001b[0m\u001b[0mordered_indexes\u001b[0m\u001b[0;34m]\u001b[0m\u001b[0;34m\u001b[0m\u001b[0;34m\u001b[0m\u001b[0m\n",
      "\u001b[0;31mKeyboardInterrupt\u001b[0m: "
     ]
    }
   ],
   "source": [
    "for s in range(env.ns):\n",
    "    \n",
    "    test_points = collect_exp(env, 2000, 25, pi_target, None, s)\n",
    "    y_vals = [point[1] for point in test_points]\n",
    "    print(np.mean(y_vals))\n",
    "    intervals, lower_quantile, upper_quantile, quantiles = conformal_set.build_set(test_points, weights, scores, 1, weight_network, True)\n",
    "    \n",
    "    \n",
    "    \n",
    "    "
   ]
  },
  {
   "cell_type": "code",
   "execution_count": null,
   "metadata": {},
   "outputs": [],
   "source": []
  }
 ],
 "metadata": {
  "kernelspec": {
   "display_name": "Python 3",
   "language": "python",
   "name": "python3"
  },
  "language_info": {
   "codemirror_mode": {
    "name": "ipython",
    "version": 3
   },
   "file_extension": ".py",
   "mimetype": "text/x-python",
   "name": "python",
   "nbconvert_exporter": "python",
   "pygments_lexer": "ipython3",
   "version": "3.8.5"
  }
 },
 "nbformat": 4,
 "nbformat_minor": 4
}
